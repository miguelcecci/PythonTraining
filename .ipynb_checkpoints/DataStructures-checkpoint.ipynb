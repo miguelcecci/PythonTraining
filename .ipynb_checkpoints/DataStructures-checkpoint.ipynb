{
 "cells": [
  {
   "cell_type": "code",
   "execution_count": 34,
   "metadata": {},
   "outputs": [],
   "source": [
    "symbols = 'ABCZDEF'"
   ]
  },
  {
   "cell_type": "code",
   "execution_count": 35,
   "metadata": {},
   "outputs": [
    {
     "name": "stdout",
     "output_type": "stream",
     "text": [
      "[65, 66, 67, 90, 68, 69, 70]\n"
     ]
    }
   ],
   "source": [
    "#criando lista forma 1\n",
    "codes = []\n",
    "for symbol in symbols:\n",
    "    codes.append(ord(symbol)) #ord() converte para os valores ascii\n",
    "print(codes)"
   ]
  },
  {
   "cell_type": "code",
   "execution_count": 36,
   "metadata": {},
   "outputs": [
    {
     "name": "stdout",
     "output_type": "stream",
     "text": [
      "[65, 66, 67, 90, 68, 69, 70] ABCZDEF\n"
     ]
    }
   ],
   "source": [
    "#criando lista forma 2\n",
    "codes = [ord(symbol) for symbol in symbols]\n",
    "print(codes, symbols)"
   ]
  },
  {
   "cell_type": "code",
   "execution_count": 38,
   "metadata": {},
   "outputs": [
    {
     "name": "stdout",
     "output_type": "stream",
     "text": [
      "[90, 68, 69, 70]\n",
      "[90, 68, 69, 70]\n"
     ]
    }
   ],
   "source": [
    "#listcomp ou map/filter\n",
    "codes = [ord(s) for s in symbols if ord(s) > 67]\n",
    "print(codes)\n",
    "codes = list(filter(lambda c: c > 67, map(ord, symbols)))\n",
    "print(codes)"
   ]
  },
  {
   "cell_type": "code",
   "execution_count": 46,
   "metadata": {},
   "outputs": [
    {
     "name": "stdout",
     "output_type": "stream",
     "text": [
      "[('A', '1'), ('A', '2'), ('A', '3'), ('B', '1'), ('B', '2'), ('B', '3'), ('C', '1'), ('C', '2'), ('C', '3')]\n",
      "[('A', '1'), ('B', '1'), ('C', '1'), ('A', '2'), ('B', '2'), ('C', '2'), ('A', '3'), ('B', '3'), ('C', '3')]\n"
     ]
    }
   ],
   "source": [
    "#produto cartesiano de listcomps\n",
    "symbols = ['A', 'B', 'C']\n",
    "numbers = ['1', '2', '3']\n",
    "#ordenada com preferencia no simbolo\n",
    "result = [(symbol, number) for symbol in symbols for number in numbers]\n",
    "print(result)\n",
    "#ordenada com preferencia no numero\n",
    "result = [(symbol, number) for number in numbers for symbol in symbols]\n",
    "print(reverse)"
   ]
  },
  {
   "cell_type": "code",
   "execution_count": 53,
   "metadata": {},
   "outputs": [
    {
     "name": "stdout",
     "output_type": "stream",
     "text": [
      "(65, 66, 67)\n",
      "array('I', [65, 66, 67])\n"
     ]
    }
   ],
   "source": [
    "#expressoes geradoras (genexp)\n",
    "#possuem a mesma estrutura de listcomps porem, sao delimitadas por parenteses no lugar de colchetes\n",
    "#gerando tupla\n",
    "result = tuple(ord(symbol) for symbol in symbols)\n",
    "print(result)\n",
    "\n",
    "#gerando array\n",
    "import array\n",
    "result = array.array('I', (ord(symbol) for symbol in symbols))\n",
    "print(result)"
   ]
  },
  {
   "cell_type": "code",
   "execution_count": 56,
   "metadata": {},
   "outputs": [
    {
     "name": "stdout",
     "output_type": "stream",
     "text": [
      "A.1\n",
      "A.2\n",
      "A.3\n",
      "B.1\n",
      "B.2\n",
      "B.3\n",
      "C.1\n",
      "C.2\n",
      "C.3\n"
     ]
    }
   ],
   "source": [
    "#imprimir\n",
    "for result in('%s.%s' % (s, n) for s in symbols for n in numbers):\n",
    "    print(result)"
   ]
  },
  {
   "cell_type": "code",
   "execution_count": 57,
   "metadata": {},
   "outputs": [
    {
     "name": "stdout",
     "output_type": "stream",
     "text": [
      "USA\n",
      "BRA\n",
      "ESP\n"
     ]
    }
   ],
   "source": [
    "#usando tuplas como registros\n",
    "traveler_ids = [('USA', '3213123'), ('BRA', 'A12032'), ('ESP', 'JS13293')]\n",
    "for country, _ in traveler_ids:\n",
    "    print(country)"
   ]
  },
  {
   "cell_type": "code",
   "execution_count": 61,
   "metadata": {},
   "outputs": [
    {
     "name": "stdout",
     "output_type": "stream",
     "text": [
      "City:  Telemaco borba - Street:  Av. Ozorio de Almeida Taques - Number:  571\n"
     ]
    }
   ],
   "source": [
    "# desempacotando tuplas\n",
    "location = (571, 'Av. Ozorio de Almeida Taques', 'Telemaco borba')\n",
    "number, street, city = location\n",
    "print('City: ', city, '- Street: ', street, '- Number: ', number)"
   ]
  },
  {
   "cell_type": "code",
   "execution_count": 62,
   "metadata": {},
   "outputs": [
    {
     "name": "stdout",
     "output_type": "stream",
     "text": [
      "20  -  8\n"
     ]
    }
   ],
   "source": [
    "#swap de variaveis\n",
    "a, b = (8, 20)\n",
    "a, b = b, a\n",
    "print(a, ' - ', b)"
   ]
  },
  {
   "cell_type": "code",
   "execution_count": 65,
   "metadata": {},
   "outputs": [
    {
     "name": "stdout",
     "output_type": "stream",
     "text": [
      "(2, 4)\n"
     ]
    }
   ],
   "source": [
    "# prefixando argumentos com *\n",
    "divmod(a, b)\n",
    "t = (a, b)\n",
    "# executar divmod(t) resultaria em erro, pois a funçao divmod necessita de 2 argumentos, logo:\n",
    "print(divmod(*t))"
   ]
  },
  {
   "cell_type": "code",
   "execution_count": 67,
   "metadata": {},
   "outputs": [
    {
     "name": "stdout",
     "output_type": "stream",
     "text": [
      "login.txt\n"
     ]
    }
   ],
   "source": [
    "#usando tuplas para armazenar um caminho\n",
    "import os\n",
    "_, filename = os.path.split('/home/miguel/login.txt') #cria uma tupla (path/last part)\n",
    "print(filename)"
   ]
  },
  {
   "cell_type": "code",
   "execution_count": 74,
   "metadata": {},
   "outputs": [
    {
     "name": "stdout",
     "output_type": "stream",
     "text": [
      "0 [1, 2, 3, 4, 5, 6, 7]\n",
      "0 [1, 2, 3, 4, 5, 6] 7\n"
     ]
    }
   ],
   "source": [
    "#usando * para capturar itens excedentes\n",
    "first ,*rest = range(8)\n",
    "print(first, rest)\n",
    "first ,*rest, last = range(8)\n",
    "print(first, rest, last)"
   ]
  },
  {
   "cell_type": "code",
   "execution_count": 82,
   "metadata": {},
   "outputs": [
    {
     "name": "stdout",
     "output_type": "stream",
     "text": [
      "                |   lat.    |   long.  \n",
      "Mexico City     |   19.4333 |  -99.1333\n",
      "New York        |   40.8086 |  -74.0204\n",
      "Sao Paulo       |  -23.5478 |  -46.6358\n"
     ]
    }
   ],
   "source": [
    "#desempacotando tuplas aninhadas\n",
    "metro_areas = [\n",
    "    ('Tokyo', 'JP', 36.933, (35.689722, 139.691667)),\n",
    "    ('Delhi NCR', 'IN', 21.935, (28.613889, 77.208889)),\n",
    "    ('Mexico City', 'MX', 20.142, (19.433333, -99.133333)),\n",
    "    ('New York', 'US', 20.104, (40.808611, -74.020386)),\n",
    "    ('Sao Paulo', 'BR', 19.649, (-23.547778, -46.635833)),\n",
    "]\n",
    "print('{:15} | {:^9} | {:^9}'.format('', 'lat.', 'long.'))\n",
    "fmt = '{:15} | {:9.4f} | {:9.4f}'\n",
    "for name, cc, pop, (latitude, longitude) in metro_areas:\n",
    "    if longitude <= 0:\n",
    "        print(fmt.format(name, latitude, longitude))\n",
    "#olha que formatacao mais linda"
   ]
  },
  {
   "cell_type": "code",
   "execution_count": 92,
   "metadata": {},
   "outputs": [
    {
     "name": "stdout",
     "output_type": "stream",
     "text": [
      "City(name='Tokyo', countrey='JP', population=36.933, coordinates=(35.689722, 139.691667))\n",
      "36.933\n"
     ]
    }
   ],
   "source": [
    "#tuplas nomeadas usando namedtuple\n",
    "from collections import namedtuple\n",
    "City = namedtuple('City', 'name countrey population coordinates')\n",
    "tokyo = City('Tokyo', 'JP', 36.933, (35.689722, 139.691667))\n",
    "print(tokyo) #como pode ser visto, namedtuple ja tem implementado o metodo __repr__()\n",
    "print(tokyo.population)"
   ]
  },
  {
   "cell_type": "code",
   "execution_count": 93,
   "metadata": {},
   "outputs": [
    {
     "name": "stdout",
     "output_type": "stream",
     "text": [
      "OrderedDict([('name', 'Delhi NCR'), ('countrey', 'IN'), ('population', 21.935), ('coordinates', LatLong(lat=28.613889, long=77.208889))])\n"
     ]
    }
   ],
   "source": [
    "#atributos e metodos herdados de tuple\n",
    "City._fields\n",
    "LatLong = namedtuple('LatLong', 'lat long')\n",
    "delhi_data = ('Delhi NCR', 'IN', 21.935, LatLong(28.613889, 77.208889))\n",
    "delhi = City._make(delhi_data) #sinonimo de City(*delhi_data)\n",
    "print(delhi._asdict())"
   ]
  },
  {
   "cell_type": "code",
   "execution_count": 99,
   "metadata": {},
   "outputs": [
    {
     "name": "stdout",
     "output_type": "stream",
     "text": [
      "[10, 20, 30, 40, 50, 60]\n"
     ]
    }
   ],
   "source": [
    "#FATIAMENTO E SLICE\n",
    "l = [i*10 for i in range(1,7)]\n",
    "print(l)"
   ]
  },
  {
   "cell_type": "code",
   "execution_count": 104,
   "metadata": {},
   "outputs": [
    {
     "name": "stdout",
     "output_type": "stream",
     "text": [
      "[10, 20]\n",
      "[30, 40, 50, 60]\n",
      "[30, 40]\n",
      "[10, 30, 50]\n",
      "[60, 50, 40, 30, 20, 10]\n",
      "[30, 50]\n"
     ]
    }
   ],
   "source": [
    "print(l[:2]) #pegar os dois primeiros valores\n",
    "print(l[2:]) #pegar os dois ultimos valores\n",
    "print(l[2:4])#intervalo\n",
    "print(l[::2])#pegar valores de 2 em 2\n",
    "print(l[::-1])#pegar valores de 1 em 1 começando do final\n",
    "print(l[2::2])#intervalo de 2 em 2 comecando no segundo elemento"
   ]
  },
  {
   "cell_type": "code",
   "execution_count": 105,
   "metadata": {},
   "outputs": [
    {
     "name": "stdout",
     "output_type": "stream",
     "text": [
      "[10, 20, 333, 222, 40, 50, 60]\n"
     ]
    }
   ],
   "source": [
    "# atribuiçao de valores usando fatias\n",
    "l[2:3] = [333, 222]\n",
    "print(l)\n",
    "#é necessario que o valor que deseja atribuir seja um valor iteravel"
   ]
  },
  {
   "cell_type": "code",
   "execution_count": 8,
   "metadata": {},
   "outputs": [
    {
     "name": "stdout",
     "output_type": "stream",
     "text": [
      "4432840008\n",
      "4432840008\n"
     ]
    }
   ],
   "source": [
    "#lista mutavel\n",
    "l = [1, 2, 3]\n",
    "print(id(l))\n",
    "l *= 2\n",
    "print(id(l))"
   ]
  },
  {
   "cell_type": "code",
   "execution_count": 10,
   "metadata": {},
   "outputs": [
    {
     "name": "stdout",
     "output_type": "stream",
     "text": [
      "4432989640\n",
      "4431903624\n"
     ]
    }
   ],
   "source": [
    "#lista imutavel\n",
    "l = (1, 2, 3)\n",
    "print(id(l))\n",
    "l *= 2\n",
    "print(id(l))"
   ]
  },
  {
   "cell_type": "code",
   "execution_count": 13,
   "metadata": {},
   "outputs": [
    {
     "ename": "TypeError",
     "evalue": "'tuple' object does not support item assignment",
     "output_type": "error",
     "traceback": [
      "\u001b[0;31m---------------------------------------------------------------------------\u001b[0m",
      "\u001b[0;31mTypeError\u001b[0m                                 Traceback (most recent call last)",
      "\u001b[0;32m<ipython-input-13-c7c14e449fcb>\u001b[0m in \u001b[0;36m<module>\u001b[0;34m()\u001b[0m\n\u001b[1;32m      1\u001b[0m \u001b[0;31m#curioso\u001b[0m\u001b[0;34m\u001b[0m\u001b[0;34m\u001b[0m\u001b[0m\n\u001b[1;32m      2\u001b[0m \u001b[0mt\u001b[0m \u001b[0;34m=\u001b[0m \u001b[0;34m(\u001b[0m\u001b[0;36m1\u001b[0m\u001b[0;34m,\u001b[0m \u001b[0;36m2\u001b[0m\u001b[0;34m,\u001b[0m \u001b[0;34m[\u001b[0m\u001b[0;36m30\u001b[0m\u001b[0;34m,\u001b[0m \u001b[0;36m40\u001b[0m\u001b[0;34m]\u001b[0m\u001b[0;34m)\u001b[0m\u001b[0;34m\u001b[0m\u001b[0m\n\u001b[0;32m----> 3\u001b[0;31m \u001b[0mt\u001b[0m\u001b[0;34m[\u001b[0m\u001b[0;36m2\u001b[0m\u001b[0;34m]\u001b[0m \u001b[0;34m+=\u001b[0m \u001b[0;34m[\u001b[0m\u001b[0;36m50\u001b[0m\u001b[0;34m,\u001b[0m \u001b[0;36m60\u001b[0m\u001b[0;34m]\u001b[0m\u001b[0;34m\u001b[0m\u001b[0m\n\u001b[0m",
      "\u001b[0;31mTypeError\u001b[0m: 'tuple' object does not support item assignment"
     ]
    }
   ],
   "source": [
    "#curioso\n",
    "t = (1, 2, [30, 40])\n",
    "t[2] += [50, 60]"
   ]
  },
  {
   "cell_type": "code",
   "execution_count": 14,
   "metadata": {},
   "outputs": [
    {
     "name": "stdout",
     "output_type": "stream",
     "text": [
      "(1, 2, [30, 40, 50, 60])\n"
     ]
    }
   ],
   "source": [
    "print(t)"
   ]
  },
  {
   "cell_type": "code",
   "execution_count": 15,
   "metadata": {},
   "outputs": [
    {
     "data": {
      "text/plain": [
       "['apple', 'banana', 'grape', 'raspberry']"
      ]
     },
     "execution_count": 15,
     "metadata": {},
     "output_type": "execute_result"
    }
   ],
   "source": [
    "#usando o metodo sorted() para ordenar listas\n",
    "fruits = ['grape', 'raspberry', 'apple', 'banana']\n",
    "sorted(fruits)"
   ]
  },
  {
   "cell_type": "code",
   "execution_count": 16,
   "metadata": {},
   "outputs": [
    {
     "data": {
      "text/plain": [
       "['raspberry', 'grape', 'banana', 'apple']"
      ]
     },
     "execution_count": 16,
     "metadata": {},
     "output_type": "execute_result"
    }
   ],
   "source": [
    "sorted(fruits, reverse=True)"
   ]
  },
  {
   "cell_type": "code",
   "execution_count": 17,
   "metadata": {},
   "outputs": [
    {
     "data": {
      "text/plain": [
       "['grape', 'apple', 'banana', 'raspberry']"
      ]
     },
     "execution_count": 17,
     "metadata": {},
     "output_type": "execute_result"
    }
   ],
   "source": [
    "sorted(fruits, key=len)"
   ]
  },
  {
   "cell_type": "code",
   "execution_count": 18,
   "metadata": {},
   "outputs": [
    {
     "data": {
      "text/plain": [
       "['raspberry', 'banana', 'grape', 'apple']"
      ]
     },
     "execution_count": 18,
     "metadata": {},
     "output_type": "execute_result"
    }
   ],
   "source": [
    "sorted(fruits, key=len, reverse = True)"
   ]
  },
  {
   "cell_type": "code",
   "execution_count": 19,
   "metadata": {},
   "outputs": [
    {
     "data": {
      "text/plain": [
       "['grape', 'raspberry', 'apple', 'banana']"
      ]
     },
     "execution_count": 19,
     "metadata": {},
     "output_type": "execute_result"
    }
   ],
   "source": [
    "fruits"
   ]
  },
  {
   "cell_type": "code",
   "execution_count": 22,
   "metadata": {},
   "outputs": [
    {
     "data": {
      "text/plain": [
       "['apple', 'banana', 'grape', 'raspberry']"
      ]
     },
     "execution_count": 22,
     "metadata": {},
     "output_type": "execute_result"
    }
   ],
   "source": [
    "fruits.sort()\n",
    "fruits"
   ]
  },
  {
   "cell_type": "code",
   "execution_count": null,
   "metadata": {},
   "outputs": [],
   "source": []
  }
 ],
 "metadata": {
  "kernelspec": {
   "display_name": "Python 3",
   "language": "python",
   "name": "python3"
  },
  "language_info": {
   "codemirror_mode": {
    "name": "ipython",
    "version": 3
   },
   "file_extension": ".py",
   "mimetype": "text/x-python",
   "name": "python",
   "nbconvert_exporter": "python",
   "pygments_lexer": "ipython3",
   "version": "3.6.2"
  }
 },
 "nbformat": 4,
 "nbformat_minor": 2
}
