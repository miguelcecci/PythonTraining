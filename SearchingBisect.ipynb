{
 "cells": [
  {
   "cell_type": "code",
   "execution_count": 43,
   "metadata": {},
   "outputs": [],
   "source": [
    "import bisect\n",
    "import sys"
   ]
  },
  {
   "cell_type": "code",
   "execution_count": 44,
   "metadata": {},
   "outputs": [],
   "source": [
    "HAYSTACK = [1, 4, 5, 6, 8, 12, 15, 20, 21, 23, 23, 26, 29, 30]\n",
    "NEEDLES = [0, 1, 2, 5, 8, 10, 22, 23, 29, 30, 31]\n",
    "ROW_FMT = '{0:2d}  @  {1:2d} {2}{0:<2d}'"
   ]
  },
  {
   "cell_type": "code",
   "execution_count": 45,
   "metadata": {},
   "outputs": [],
   "source": [
    "def demo(bisect_fn):\n",
    "    for needle in reversed(NEEDLES):\n",
    "        position = bisect_fn(HAYSTACK, needle)\n",
    "        offset = position * '  |'\n",
    "        print(ROW_FMT.format(needle, position, offset))"
   ]
  },
  {
   "cell_type": "code",
   "execution_count": 46,
   "metadata": {},
   "outputs": [],
   "source": [
    "#alterar entre bisect pela esquerda ou pela direita\n",
    "a = False\n",
    "if a:\n",
    "    bisect_fn = bisect.bisect_left\n",
    "else:\n",
    "    bisect_fn = bisect.bisect"
   ]
  },
  {
   "cell_type": "code",
   "execution_count": 47,
   "metadata": {},
   "outputs": [
    {
     "name": "stdout",
     "output_type": "stream",
     "text": [
      "haystack ->  1  4  5  6  8 12 15 20 21 23 23 26 29 30\n",
      "31  @  14   |  |  |  |  |  |  |  |  |  |  |  |  |  |31\n",
      "30  @  14   |  |  |  |  |  |  |  |  |  |  |  |  |  |30\n",
      "29  @  13   |  |  |  |  |  |  |  |  |  |  |  |  |29\n",
      "23  @  11   |  |  |  |  |  |  |  |  |  |  |23\n",
      "22  @   9   |  |  |  |  |  |  |  |  |22\n",
      "10  @   5   |  |  |  |  |10\n",
      " 8  @   5   |  |  |  |  |8 \n",
      " 5  @   3   |  |  |5 \n",
      " 2  @   1   |2 \n",
      " 1  @   1   |1 \n",
      " 0  @   0 0 \n"
     ]
    }
   ],
   "source": [
    "print('haystack ->', ' '.join('%2d' % n for n in HAYSTACK))\n",
    "demo(bisect_fn)"
   ]
  },
  {
   "cell_type": "code",
   "execution_count": 49,
   "metadata": {},
   "outputs": [
    {
     "name": "stdout",
     "output_type": "stream",
     "text": [
      "10 -> [10]\n",
      " 0 -> [0, 10]\n",
      " 6 -> [0, 6, 10]\n",
      " 8 -> [0, 6, 8, 10]\n",
      " 7 -> [0, 6, 7, 8, 10]\n",
      " 2 -> [0, 2, 6, 7, 8, 10]\n",
      "10 -> [0, 2, 6, 7, 8, 10, 10]\n"
     ]
    }
   ],
   "source": [
    "#inserçao com bisect.insort\n",
    "import random\n",
    "\n",
    "SIZE = 7\n",
    "random.seed(1729)\n",
    "my_list = []\n",
    "for i in range(SIZE):\n",
    "    new_item = random.randrange(SIZE*2)\n",
    "    bisect.insort(my_list, new_item)\n",
    "    print('%2d ->' % new_item, my_list)"
   ]
  },
  {
   "cell_type": "code",
   "execution_count": null,
   "metadata": {},
   "outputs": [],
   "source": []
  }
 ],
 "metadata": {
  "kernelspec": {
   "display_name": "Python 3",
   "language": "python",
   "name": "python3"
  },
  "language_info": {
   "codemirror_mode": {
    "name": "ipython",
    "version": 3
   },
   "file_extension": ".py",
   "mimetype": "text/x-python",
   "name": "python",
   "nbconvert_exporter": "python",
   "pygments_lexer": "ipython3",
   "version": "3.6.2"
  }
 },
 "nbformat": 4,
 "nbformat_minor": 2
}
